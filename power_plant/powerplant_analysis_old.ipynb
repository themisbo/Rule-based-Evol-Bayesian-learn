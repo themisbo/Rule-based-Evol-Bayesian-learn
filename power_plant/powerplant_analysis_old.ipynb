{
 "cells": [
  {
   "cell_type": "markdown",
   "id": "d057f0c7",
   "metadata": {},
   "source": [
    "# Automated rule-based Bayesian classification analysis for the power plant data"
   ]
  },
  {
   "cell_type": "markdown",
   "id": "6488b367",
   "metadata": {},
   "source": [
    "Load the packages"
   ]
  },
  {
   "cell_type": "code",
   "execution_count": 1,
   "id": "4ffc1e1c",
   "metadata": {},
   "outputs": [],
   "source": [
    "from numpy.core.numeric import NaN\n",
    "import pandas as pd\n",
    "import matplotlib.pyplot as plt\n",
    "import numpy as np\n",
    "import pymc3 as pm\n",
    "from sklearn.preprocessing import StandardScaler\n",
    "\n",
    "import matplotlib.pyplot as plt\n",
    "import numpy as np\n",
    "from sklearn.metrics import accuracy_score\n",
    "from sklearn.metrics import confusion_matrix\n",
    "\n",
    "from scipy.stats import logistic\n",
    "from sklearn import metrics\n",
    "\n",
    "np.random.seed(123)"
   ]
  },
  {
   "cell_type": "markdown",
   "id": "be1fa52a",
   "metadata": {},
   "source": [
    "Load the data"
   ]
  },
  {
   "cell_type": "code",
   "execution_count": 2,
   "id": "eb49f5d9",
   "metadata": {},
   "outputs": [],
   "source": [
    "df = pd.read_excel(\"Folds5x2_pp.xlsx\")\n",
    "\n",
    "PE_cuttof = 465\n",
    "AT_cuttof = 20\n",
    "\n",
    "df_train_inter = df.head(1000)\n",
    "df_train = df_train_inter[df_train_inter[\"AT\"] <= AT_cuttof]"
   ]
  },
  {
   "cell_type": "markdown",
   "id": "86a60baa",
   "metadata": {},
   "source": [
    "Plot the data"
   ]
  },
  {
   "cell_type": "code",
   "execution_count": 3,
   "id": "e7b210f6",
   "metadata": {},
   "outputs": [
    {
     "data": {
      "text/plain": [
       "<matplotlib.legend.Legend at 0x7fc568714160>"
      ]
     },
     "execution_count": 3,
     "metadata": {},
     "output_type": "execute_result"
    },
    {
     "data": {
      "image/png": "[encoded data removed]",
      "text/plain": [
       "<Figure size 432x288 with 1 Axes>"
      ]
     },
     "metadata": {
      "needs_background": "light"
     },
     "output_type": "display_data"
    }
   ],
   "source": [
    "fig, ax = plt.subplots()\n",
    "ax.scatter(df[\"AT\"], df[\"PE\"], label=\"Unobserved Data\")\n",
    "ax.scatter(df_train[\"AT\"], df_train[\"PE\"], c=\"red\", label=\"Observed Data\")\n",
    "ax.set_xlabel(\"AT\")\n",
    "ax.set_ylabel(\"PE\")\n",
    "ax.set_title(\"Data\")\n",
    "plt.axhline(PE_cuttof, c=\"g\", linewidth=2)\n",
    "ax.legend(ncol=2, fontsize=10)\n",
    "# fig.savefig(\"pp_data.png\", dpi=300, bbox_inches=\"tight\", facecolor=\"w\")"
   ]
  },
  {
   "cell_type": "markdown",
   "id": "1d75ed96",
   "metadata": {},
   "source": [
    "Create class variable and scale the data"
   ]
  },
  {
   "cell_type": "code",
   "execution_count": 5,
   "id": "4e6b49d4",
   "metadata": {},
   "outputs": [
    {
     "data": {
      "text/plain": [
       "0    6609\n",
       "1    2959\n",
       "Name: PE_class, dtype: int64"
      ]
     },
     "execution_count": 5,
     "metadata": {},
     "output_type": "execute_result"
    }
   ],
   "source": [
    "df_train = df_train.assign(\n",
    "    PE_class=lambda dataframe: dataframe[\"PE\"].map(\n",
    "        lambda PE: 1 if PE >= PE_cuttof else 0\n",
    "    )\n",
    ")\n",
    "\n",
    "X_train = df_train.drop(columns=[\"PE\", \"PE_class\"]).to_numpy()\n",
    "scaler = StandardScaler().fit(X_train)\n",
    "X_train_sc = scaler.transform(X_train)\n",
    "\n",
    "df_test = df\n",
    "df_test = df_test.assign(\n",
    "    PE_class=lambda dataframe: dataframe[\"PE\"].map(\n",
    "        lambda PE: 1 if PE >= PE_cuttof else 0\n",
    "    )\n",
    ")\n",
    "df_testsc = scaler.transform(df_test.drop(columns=[\"PE\", \"PE_class\"]))\n",
    "\n",
    "df_test.PE_class.value_counts()"
   ]
  },
  {
   "cell_type": "markdown",
   "id": "f00fac1b",
   "metadata": {},
   "source": [
    "## Bayesian multivariate logistic regression"
   ]
  },
  {
   "cell_type": "markdown",
   "id": "a6c473ab",
   "metadata": {},
   "source": [
    "Define the features and label"
   ]
  },
  {
   "cell_type": "code",
   "execution_count": 6,
   "id": "e159fa17",
   "metadata": {},
   "outputs": [],
   "source": [
    "AT_val = X_train_sc[:, 0]\n",
    "V_val = X_train_sc[:, 1]\n",
    "AP_val = X_train_sc[:, 2]\n",
    "RH_val = X_train_sc[:, 3]\n",
    "\n",
    "PEclass_val = df_train.PE_class.to_numpy()"
   ]
  },
  {
   "cell_type": "markdown",
   "id": "9afdaf82",
   "metadata": {},
   "source": [
    "Run the model"
   ]
  },
  {
   "cell_type": "code",
   "execution_count": 7,
   "id": "3411423a",
   "metadata": {},
   "outputs": [
    {
     "name": "stderr",
     "output_type": "stream",
     "text": [
      "<ipython-input-7-e52aa0446030>:20: FutureWarning: In v4.0, pm.sample will return an `arviz.InferenceData` object instead of a `MultiTrace` by default. You can pass return_inferencedata=True or return_inferencedata=False to be safe and silence this warning.\n",
      "  trace_norules = pm.sample(draws=100000, step=step, tune=20000, cores=1, chains=1)\n",
      "Sequential sampling (1 chains in 1 job)\n",
      "CompoundStep\n",
      ">Metropolis: [error]\n",
      ">Metropolis: [intercept]\n",
      ">Metropolis: [RH_co]\n",
      ">Metropolis: [AP_co]\n",
      ">Metropolis: [V_co]\n",
      ">Metropolis: [AT_co]\n"
     ]
    },
    {
     "data": {
      "text/html": [
       "\n",
       "    <div>\n",
       "        <style>\n",
       "            /* Turns off some styling */\n",
       "            progress {\n",
       "                /* gets rid of default border in Firefox and Opera. */\n",
       "                border: none;\n",
       "                /* Needs to be in here for Safari polyfill so background images work as expected. */\n",
       "                background-size: auto;\n",
       "            }\n",
       "            .progress-bar-interrupted, .progress-bar-interrupted::-webkit-progress-bar {\n",
       "                background: #F44336;\n",
       "            }\n",
       "        </style>\n",
       "      <progress value='120000' class='' max='120000' style='width:300px; height:20px; vertical-align: middle;'></progress>\n",
       "      100.00% [120000/120000 01:56<00:00 Sampling chain 0, 0 divergences]\n",
       "    </div>\n",
       "    "
      ],
      "text/plain": [
       "<IPython.core.display.HTML object>"
      ]
     },
     "metadata": {},
     "output_type": "display_data"
    },
    {
     "name": "stderr",
     "output_type": "stream",
     "text": [
      "Sampling 1 chain for 20_000 tune and 100_000 draw iterations (20_000 + 100_000 draws total) took 117 seconds.\n",
      "/usr/local/anaconda3/envs/daskk/lib/python3.8/site-packages/arviz/data/base.py:216: UserWarning: More chains (100000) than draws (6). Passed array should have shape (chains, draws, *shape)\n",
      "  warnings.warn(\n",
      "Only one chain was sampled, this makes it impossible to run some convergence checks\n"
     ]
    }
   ],
   "source": [
    "with pm.Model() as model_norules:\n",
    "    # define priors\n",
    "    AT_co = pm.Normal(\"AT_co\", 0.0, 10.0)\n",
    "    V_co = pm.Normal(\"V_co\", 0.0, 10.0)\n",
    "    AP_co = pm.Normal(\"AP_co\", 0.0, 10.0)\n",
    "    RH_co = pm.Normal(\"RH_co\", 0.0, 10.0)\n",
    "    b = pm.Normal(\"intercept\", 0, 20.0)\n",
    "    s = pm.Exponential(\"error\", 1)\n",
    "\n",
    "    res = pm.math.sigmoid(\n",
    "        AT_co * AT_val + V_co * V_val + AP_co * AP_val + RH_co * RH_val + b\n",
    "    )\n",
    "\n",
    "    # predictions\n",
    "    obs = pm.Bernoulli(\"observation\", res, observed=PEclass_val)\n",
    "\n",
    "# Run the MCMC\n",
    "with model_norules:\n",
    "    step = pm.Metropolis(scaling=0.01)\n",
    "    trace_norules = pm.sample(draws=100000, step=step, tune=20000, cores=1, chains=1)"
   ]
  },
  {
   "cell_type": "markdown",
   "id": "b2a9310a",
   "metadata": {},
   "source": [
    "Evaluate metrics"
   ]
  },
  {
   "cell_type": "code",
   "execution_count": 9,
   "id": "f69a1aeb",
   "metadata": {},
   "outputs": [
    {
     "data": {
      "image/png": "[encoded data removed]",
      "text/plain": [
       "<Figure size 432x288 with 1 Axes>"
      ]
     },
     "metadata": {
      "needs_background": "light"
     },
     "output_type": "display_data"
    },
    {
     "name": "stdout",
     "output_type": "stream",
     "text": [
      "accuracy: 0.9367683946488294\n",
      "AUC: 0.928938929376825\n",
      "sensitivity: 0.9084150050692802\n"
     ]
    }
   ],
   "source": [
    "pred = (\n",
    "    trace_norules[\"AT_co\"].mean() * df_testsc[:, 0]\n",
    "    + trace_norules[\"V_co\"].mean() * df_testsc[:, 1]\n",
    "    + trace_norules[\"AP_co\"].mean() * df_testsc[:, 2]\n",
    "    + trace_norules[\"RH_co\"].mean() * df_testsc[:, 3]\n",
    "    + trace_norules[\"intercept\"].mean()\n",
    ")\n",
    "\n",
    "pred_log = logistic.cdf(pred)\n",
    "final_pred = [1 if pred_log[j] >= 0.5 else 0 for j in range(pred_log.shape[0])]\n",
    "final_pred = np.array(final_pred)\n",
    "\n",
    "fpr, tpr, _ = metrics.roc_curve(df_test.PE_class, final_pred)\n",
    "auc = metrics.roc_auc_score(df_test.PE_class, final_pred)\n",
    "\n",
    "tn, fp, fn, tp = confusion_matrix(df_test.PE_class, final_pred).ravel()\n",
    "sensitivity = tp / (tp + fn)\n",
    "\n",
    "plt.plot(fpr, tpr)\n",
    "plt.show()\n",
    "\n",
    "print(\"accuracy:\",str(accuracy_score(df_test.PE_class, final_pred)))\n",
    "print(\"AUC:\",str(auc))\n",
    "print(\"sensitivity:\",str(sensitivity))"
   ]
  },
  {
   "cell_type": "markdown",
   "id": "cf25d64e",
   "metadata": {},
   "source": [
    "## Rule-based Bayesian multivariate logistic regression (AT rules)\n"
   ]
  },
  {
   "cell_type": "markdown",
   "id": "3ac73275",
   "metadata": {},
   "source": [
    "Define the rule"
   ]
  },
  {
   "cell_type": "code",
   "execution_count": 10,
   "id": "ddcd9576",
   "metadata": {},
   "outputs": [],
   "source": [
    "np.random.seed(456)\n",
    "\n",
    "no_points = 25\n",
    "xlow = min(AT_val)\n",
    "xmid = 0.45\n",
    "xhi = max(AT_val)\n",
    "\n",
    "rule_first = np.linspace(xlow, xmid, no_points)\n",
    "rule_second = np.linspace(xmid, xhi, no_points)\n",
    "\n",
    "ymid = 0.5\n",
    "\n",
    "\n",
    "def logp_rule_nopm(\n",
    "    AT_co, b_lat,\n",
    "):\n",
    "\n",
    "    points_r1 = pm.math.sigmoid(rule_first * AT_co + b_lat)\n",
    "    points_r2 = pm.math.sigmoid(rule_second * AT_co + b_lat)\n",
    "\n",
    "    rule_log_lik = 0\n",
    "    for i in range(no_points):\n",
    "        rule_log_lik = rule_log_lik + pm.math.switch(\n",
    "            pm.math.lt(points_r1[i], ymid), 1, 0\n",
    "        )\n",
    "        rule_log_lik = rule_log_lik + pm.math.switch(\n",
    "            pm.math.gt(points_r2[i], ymid), 1, 0\n",
    "        )\n",
    "\n",
    "    rule_ratio = rule_log_lik / (2 * no_points)\n",
    "\n",
    "    return pm.Beta.dist(alpha=1.0, beta=10000.0).logp(rule_ratio)"
   ]
  },
  {
   "cell_type": "markdown",
   "id": "3df14f31",
   "metadata": {},
   "source": [
    "Run the model"
   ]
  },
  {
   "cell_type": "code",
   "execution_count": 11,
   "id": "e34f85a2",
   "metadata": {},
   "outputs": [
    {
     "name": "stderr",
     "output_type": "stream",
     "text": [
      "<ipython-input-11-a7e355831812>:23: FutureWarning: In v4.0, pm.sample will return an `arviz.InferenceData` object instead of a `MultiTrace` by default. You can pass return_inferencedata=True or return_inferencedata=False to be safe and silence this warning.\n",
      "  trace_ATrules = pm.sample(draws=100000, step=step, tune=20000, cores=1, chains=1)\n",
      "Sequential sampling (1 chains in 1 job)\n",
      "CompoundStep\n",
      ">Metropolis: [intercept_lat]\n",
      ">Metropolis: [error]\n",
      ">Metropolis: [intercept]\n",
      ">Metropolis: [RH_co]\n",
      ">Metropolis: [AP_co]\n",
      ">Metropolis: [V_co]\n",
      ">Metropolis: [AT_co]\n"
     ]
    },
    {
     "data": {
      "text/html": [
       "\n",
       "    <div>\n",
       "        <style>\n",
       "            /* Turns off some styling */\n",
       "            progress {\n",
       "                /* gets rid of default border in Firefox and Opera. */\n",
       "                border: none;\n",
       "                /* Needs to be in here for Safari polyfill so background images work as expected. */\n",
       "                background-size: auto;\n",
       "            }\n",
       "            .progress-bar-interrupted, .progress-bar-interrupted::-webkit-progress-bar {\n",
       "                background: #F44336;\n",
       "            }\n",
       "        </style>\n",
       "      <progress value='120000' class='' max='120000' style='width:300px; height:20px; vertical-align: middle;'></progress>\n",
       "      100.00% [120000/120000 02:38<00:00 Sampling chain 0, 0 divergences]\n",
       "    </div>\n",
       "    "
      ],
      "text/plain": [
       "<IPython.core.display.HTML object>"
      ]
     },
     "metadata": {},
     "output_type": "display_data"
    },
    {
     "name": "stderr",
     "output_type": "stream",
     "text": [
      "Sampling 1 chain for 20_000 tune and 100_000 draw iterations (20_000 + 100_000 draws total) took 158 seconds.\n",
      "/usr/local/anaconda3/envs/daskk/lib/python3.8/site-packages/arviz/data/base.py:216: UserWarning: More chains (100000) than draws (7). Passed array should have shape (chains, draws, *shape)\n",
      "  warnings.warn(\n",
      "Only one chain was sampled, this makes it impossible to run some convergence checks\n"
     ]
    }
   ],
   "source": [
    "with pm.Model() as model_ATrules:\n",
    "    # define priors\n",
    "    AT_co = pm.Normal(\"AT_co\", 0.0, 10.0)\n",
    "    V_co = pm.Normal(\"V_co\", 0.0, 10.0)\n",
    "    AP_co = pm.Normal(\"AP_co\", 0.0, 10.0)\n",
    "    RH_co = pm.Normal(\"RH_co\", 0.0, 10.0)\n",
    "    b = pm.Normal(\"intercept\", 0, 20.0)\n",
    "    s = pm.Exponential(\"error\", 1)\n",
    "\n",
    "    b_lat = pm.Normal(\"intercept_lat\", 0, 10.0)\n",
    "\n",
    "    res = pm.math.sigmoid(\n",
    "        AT_co * AT_val + V_co * V_val + AP_co * AP_val + RH_co * RH_val + b\n",
    "    )\n",
    "\n",
    "    # predictions\n",
    "    obs = pm.Bernoulli(\"observation\", res, observed=PEclass_val)\n",
    "    L_rule = pm.Potential(\"LL_rule\", logp_rule_nopm(AT_co, b_lat))\n",
    "\n",
    "# Run the MCMC\n",
    "with model_ATrules:\n",
    "    step = pm.Metropolis(scaling=0.01)\n",
    "    trace_ATrules = pm.sample(draws=100000, step=step, tune=20000, cores=1, chains=1)"
   ]
  },
  {
   "cell_type": "markdown",
   "id": "02db0aaa",
   "metadata": {},
   "source": [
    "Evaluate metrics"
   ]
  },
  {
   "cell_type": "code",
   "execution_count": 12,
   "id": "bd3cac95",
   "metadata": {},
   "outputs": [
    {
     "data": {
      "image/png": "[encoded data removed]",
      "text/plain": [
       "<Figure size 432x288 with 1 Axes>"
      ]
     },
     "metadata": {
      "needs_background": "light"
     },
     "output_type": "display_data"
    },
    {
     "name": "stdout",
     "output_type": "stream",
     "text": [
      "accuracy: 0.903950668896321\n",
      "AUC: 0.9132091015809904\n",
      "sensitivity: 0.9374788779993241\n"
     ]
    }
   ],
   "source": [
    "pred = (\n",
    "    trace_ATrules[\"AT_co\"].mean() * df_testsc[:, 0]\n",
    "    + trace_ATrules[\"V_co\"].mean() * df_testsc[:, 1]\n",
    "    + trace_ATrules[\"AP_co\"].mean() * df_testsc[:, 2]\n",
    "    + trace_ATrules[\"RH_co\"].mean() * df_testsc[:, 3]\n",
    "    + trace_ATrules[\"intercept\"].mean()\n",
    ")\n",
    "\n",
    "pred_log = logistic.cdf(pred)\n",
    "final_pred_AT = [1 if pred_log[j] >= 0.5 else 0 for j in range(pred_log.shape[0])]\n",
    "final_pred_AT = np.array(final_pred_AT)\n",
    "\n",
    "fpr, tpr, _ = metrics.roc_curve(df_test.PE_class, final_pred_AT)\n",
    "auc_AT = metrics.roc_auc_score(df_test.PE_class, final_pred_AT)\n",
    "\n",
    "plt.plot(fpr, tpr)\n",
    "plt.show()\n",
    "\n",
    "tn, fp, fn, tp = confusion_matrix(df_test.PE_class, final_pred_AT).ravel()\n",
    "sensitivity_AT = tp / (tp + fn)\n",
    "\n",
    "print(\"accuracy:\",str(accuracy_score(df_test.PE_class, final_pred_AT)))\n",
    "print(\"AUC:\",str(auc_AT))\n",
    "print(\"sensitivity:\",str(sensitivity_AT))"
   ]
  },
  {
   "cell_type": "markdown",
   "id": "51600f9c",
   "metadata": {},
   "source": [
    "Compare ROC curves"
   ]
  },
  {
   "cell_type": "code",
   "execution_count": 15,
   "id": "6293f183",
   "metadata": {},
   "outputs": [
    {
     "data": {
      "image/png": "[encoded data removed]",
      "text/plain": [
       "<Figure size 432x288 with 1 Axes>"
      ]
     },
     "metadata": {
      "needs_background": "light"
     },
     "output_type": "display_data"
    }
   ],
   "source": [
    "fpr, tpr, _ = metrics.roc_curve(df_test.PE_class, final_pred_AT)\n",
    "fpr2, tpr2, _ = metrics.roc_curve(df_test.PE_class, final_pred)\n",
    "auc = metrics.roc_auc_score(df_test.PE_class, final_pred_AT)\n",
    "auc2 = metrics.roc_auc_score(df_test.PE_class, final_pred)\n",
    "plt.plot(fpr, tpr, c=\"b\", label=\"auc_ATrules=\" + str(auc))\n",
    "plt.plot(fpr2, tpr2, c=\"r\", label=\"auc_norules=\" + str(auc2))\n",
    "plt.legend(loc=4)\n",
    "plt.show()"
   ]
  },
  {
   "cell_type": "code",
   "execution_count": null,
   "id": "3315b6d0",
   "metadata": {},
   "outputs": [],
   "source": []
  }
 ],
 "metadata": {
  "kernelspec": {
   "display_name": "Python 3",
   "language": "python",
   "name": "python3"
  },
  "language_info": {
   "codemirror_mode": {
    "name": "ipython",
    "version": 3
   },
   "file_extension": ".py",
   "mimetype": "text/x-python",
   "name": "python",
   "nbconvert_exporter": "python",
   "pygments_lexer": "ipython3",
   "version": "3.8.8"
  }
 },
 "nbformat": 4,
 "nbformat_minor": 5
}
